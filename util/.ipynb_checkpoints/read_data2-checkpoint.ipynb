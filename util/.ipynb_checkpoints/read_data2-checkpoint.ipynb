{
 "cells": [
  {
   "cell_type": "code",
   "execution_count": 6,
   "id": "9b7a70ec",
   "metadata": {},
   "outputs": [
    {
     "name": "stdout",
     "output_type": "stream",
     "text": [
      "-7.6\n",
      "-3.6\n",
      "-6.8\n",
      "-5.9\n",
      "-9.9\n",
      "-11.2\n",
      "-10.1\n",
      "-8.0\n",
      "-5.1\n",
      "-3.4\n"
     ]
    }
   ],
   "source": [
    "import requests\n",
    "import json\n",
    "\n",
    "serviceKey = \"Fr9wFe/lwpNUNCFDyb4c74NiogVnhbSPOn4VixALepK1XaBViv2tOKOjrbTArthJoToqj0KuLzn4w4TVj/AqJQ==\"\n",
    "url = 'http://apis.data.go.kr/1360000/AsosDalyInfoService/getWthrDataList'\n",
    "params ={'serviceKey' : serviceKey, 'pageNo' : '1', 'numOfRows' : '10', 'dataType' : 'JSON', 'dataCd' : 'ASOS', 'dateCd' : 'DAY', 'startDt' : '20100101', 'endDt' : '20100601', 'stnIds' : '108' }\n",
    "\n",
    "\n",
    "response = requests.get(url, params=params)\n",
    "jsondata = json.loads(response.content)\n",
    "\n",
    "for item in jsondata['response']['body']['items']['item']:\n",
    "        print(item['avgTa'])\n"
   ]
  },
  {
   "cell_type": "code",
   "execution_count": 7,
   "id": "d7a543b3",
   "metadata": {},
   "outputs": [
    {
     "name": "stdout",
     "output_type": "stream",
     "text": [
      "48.0\n",
      "76.4\n",
      "49.3\n",
      "84.1\n",
      "66.4\n",
      "65.5\n",
      "66.8\n",
      "67.4\n",
      "75.8\n",
      "79.1\n"
     ]
    }
   ],
   "source": [
    "import requests\n",
    "import json\n",
    "\n",
    "serviceKey = \"Fr9wFe/lwpNUNCFDyb4c74NiogVnhbSPOn4VixALepK1XaBViv2tOKOjrbTArthJoToqj0KuLzn4w4TVj/AqJQ==\"\n",
    "url = 'http://apis.data.go.kr/1360000/AsosDalyInfoService/getWthrDataList'\n",
    "params ={'serviceKey' : serviceKey, 'pageNo' : '1', 'numOfRows' : '10', 'dataType' : 'JSON', 'dataCd' : 'ASOS', 'dateCd' : 'DAY', 'startDt' : '20100101', 'endDt' : '20100601', 'stnIds' : '108' }\n",
    "\n",
    "\n",
    "response = requests.get(url, params=params)\n",
    "jsondata = json.loads(response.content)\n",
    "\n",
    "for item in jsondata['response']['body']['items']['item']:\n",
    "        print(item['avgRhm']) "
   ]
  },
  {
   "cell_type": "code",
   "execution_count": null,
   "id": "9cee8658",
   "metadata": {},
   "outputs": [],
   "source": []
  }
 ],
 "metadata": {
  "kernelspec": {
   "display_name": "Python 3 (ipykernel)",
   "language": "python",
   "name": "python3"
  },
  "language_info": {
   "codemirror_mode": {
    "name": "ipython",
    "version": 3
   },
   "file_extension": ".py",
   "mimetype": "text/x-python",
   "name": "python",
   "nbconvert_exporter": "python",
   "pygments_lexer": "ipython3",
   "version": "3.9.7"
  }
 },
 "nbformat": 4,
 "nbformat_minor": 5
}

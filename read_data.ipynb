{
 "cells": [
  {
   "cell_type": "code",
   "execution_count": 32,
   "metadata": {},
   "outputs": [
    {
     "name": "stdout",
     "output_type": "stream",
     "text": [
      "{'numOfRows': '1000', 'pageNo': '1', 'totalCount': '2', 'items': {'item': [{'accdntNm': '전기화재', 'accdntYmd': '20011017', 'cplYmd': '19960608', 'nationNm': '대한민국', 'facilNm': '시화아파트형임대공장', 'facilAddr': '경기도 안산시 성곡동 672(5라301호)', 'facilKindNm': '건축물', 'mngMbyNm': '한국산업단지공단', 'accdntOccrrncStep': '건축물', 'accdntOccrrncPart': '기타(기타)', 'accdntCauseDetail': '전기실 배전반의 바테리 과열로 인한 전기합선으로 추정', 'accdntContent': 'ㅇ화재일시 : `01. 10월17일 20:45\\r\\nㅇ화재원인 : 전기실 배전반의 바테리 과열로 인한 전기합선으로 추정\\r\\nㅇ화재진압 : 20:52-21:10\\r\\nㅇ소방차대수 : 10대\\r\\nㅇ응급복구 : 10월18일 00:10\\r\\nㅇ복구완료 : 10월18일 20.30', 'deathCnt': '', 'woundCnt': '', 'prptyDamageAmt': '148', 'dtaSource': '', 'no': '1'}, {'accdntNm': '전기화재', 'accdntYmd': '20011017', 'cplYmd': '19960608', 'nationNm': '대한민국', 'facilNm': '시화아파트형임대공장', 'facilAddr': '경기도 안산시 성곡동 672(5라301호)', 'facilKindNm': '건축물', 'mngMbyNm': '한국산업단지공단', 'accdntOccrrncStep': '건축물', 'accdntOccrrncPart': '기타(기타)', 'accdntCauseDetail': '전기변전실의 바테리 과열로 인한 전기화재로 추정', 'accdntContent': 'ㅇ화재일시 : 2001. 10. 17\\r\\nㅇ화재시간 : 20시45분\\r\\nㅇ화재진압 : 20시45분-21시10분\\r\\nㅇ소방차대수 : 10대\\r\\nㅇ원상복구 : 2001. 10. 18(00:10)\\r\\nㅇ복구완료 : 2001. 10. 18(20시40분)', 'deathCnt': '0', 'woundCnt': '0', 'prptyDamageAmt': '148', 'dtaSource': '', 'no': '2'}]}}\n"
     ]
    }
   ],
   "source": [
    "import requests\n",
    "import json\n",
    "\n",
    "serviceKey = \"SSViRnA2wdqrMhE6gLVMdjBl6/YXNYADYJTlWSvIDLj9hb4RDasyNSx2S250bZRkGhxsG0NT/AgLmlQD2ziLeg==\"\n",
    "\n",
    "url = 'http://apis.data.go.kr/B552016/FacilAccidentService/getFacilAccidentList'\n",
    "params ={'serviceKey' : serviceKey, 'numOfRows' : '1000', 'pageNo' : '1', 'type' : 'json','facilAddr' : '안산' }\n",
    "\n",
    "response = requests.get(url, params=params)\n",
    "rawData = response.content.decode('utf-8')\n",
    "jsondata = json.loads(rawData)\n",
    "items = jsondata['response']['body']\n",
    "print(items)"
   ]
  },
  {
   "cell_type": "code",
   "execution_count": null,
   "metadata": {},
   "outputs": [],
   "source": []
  }
 ],
 "metadata": {
  "kernelspec": {
   "display_name": "bert-study",
   "language": "python",
   "name": "python3"
  },
  "language_info": {
   "codemirror_mode": {
    "name": "ipython",
    "version": 3
   },
   "file_extension": ".py",
   "mimetype": "text/x-python",
   "name": "python",
   "nbconvert_exporter": "python",
   "pygments_lexer": "ipython3",
   "version": "3.10.6"
  },
  "orig_nbformat": 4
 },
 "nbformat": 4,
 "nbformat_minor": 2
}

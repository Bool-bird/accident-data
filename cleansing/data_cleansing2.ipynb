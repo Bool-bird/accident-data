{
 "cells": [
  {
   "cell_type": "code",
   "execution_count": null,
   "metadata": {
    "scrolled": true
   },
   "outputs": [],
   "source": [
    "import sys\n",
    "sys.path.append('..')\n",
    "\n",
    "import pandas as pd\n",
    "from sklearn.preprocessing import LabelEncoder, OneHotEncoder\n",
    "from sklearn.model_selection import train_test_split\n",
    "from sklearn.preprocessing import StandardScaler\n",
    "from sklearn.compose import ColumnTransformer\n",
    "from util.preprocessing import extract_month\n",
    "from util.preprocessing2 import get_temper, get_humid, extract_yyyymmdd, extract_cost1\n",
    "import re\n",
    "from dateutil import parser\n",
    "\n",
    "def preprocess_data2():\n",
    "    df = pd.read_csv('../data/baccident_data.csv', encoding = 'cp949')\n",
    "    \n",
    "    #필요 없는 특성 제거\n",
    "    allColumns = df.columns\n",
    "    #{사고데이터:비사고데이터} = {'발생일시':'일자','공공/민간 구분':'발주자구분','기상상태':일자를통해기상청에서불러오기,'공종':'공종','사망자수(명)':0,'부상자수(명)':0,'공사비':'공사비','공사기간':'총공사일수'}\n",
    "    params = ['일자', '발주자구분', '공종', '공사비', '총공사일수']\n",
    "    df = df.drop(allColumns.drop(params), axis=1)\n",
    "\n",
    "    df = df.dropna()\n",
    "    \n",
    "    #범주형 데이터를 수치형 데이터로 인코딩\n",
    "    df['사고발생월'] = df['일자'].apply(extract_month)\n",
    "    df['공사비'] = df['공사비'].apply(extract_cost1)\n",
    "    df['일자'] = df['일자'].apply(extract_yyyymmdd)\n",
    "    \n",
    "    \n",
    "    # 기온, 습도 기상청에서 불러오기\n",
    "    df['기온'] = df['일자'].apply(get_temper)\n",
    "    df['습도'] = df['일자'].apply(get_humid)\n",
    "    \n",
    "    # '사망자수(명)','부상자수(명)' 추가\n",
    "    df['사망자수(명)'] = 0\n",
    "    df['부상자수(명)'] = 0\n",
    "    \n",
    "    \n",
    "\n",
    "    # 원-핫 인코딩\n",
    "    ct = ColumnTransformer([('onehot', OneHotEncoder(sparse=False), ['발주자구분', '공종'])], remainder='passthrough')\n",
    "    ct.fit(df)\n",
    "    X = ct.transform(df)\n",
    "\n",
    "    # 컬럼 이름 리스트 생성\n",
    "    num_cols = df.columns.tolist()\n",
    "    ohe = ct.named_transformers_['onehot']\n",
    "    ohe_cols = ohe.get_feature_names_out(['발주자구분', '공종']).tolist()\n",
    "    new_cols = ohe_cols + num_cols\n",
    "    new_cols.remove('발주자구분')\n",
    "    new_cols.remove('공종')\n",
    "\n",
    "    # DataFrame으로 변환\n",
    "    df = pd.DataFrame(X, columns=new_cols)\n",
    "\n",
    "    df = df.astype('float64')\n",
    "\n",
    "    df.to_csv(\"ba_ouput.csv\")\n",
    "\n",
    "preprocess_data2()"
   ]
  },
  {
   "cell_type": "code",
   "execution_count": null,
   "metadata": {},
   "outputs": [],
   "source": []
  },
  {
   "cell_type": "code",
   "execution_count": null,
   "metadata": {},
   "outputs": [],
   "source": []
  }
 ],
 "metadata": {
  "kernelspec": {
   "display_name": "Python 3 (ipykernel)",
   "language": "python",
   "name": "python3"
  },
  "language_info": {
   "codemirror_mode": {
    "name": "ipython",
    "version": 3
   },
   "file_extension": ".py",
   "mimetype": "text/x-python",
   "name": "python",
   "nbconvert_exporter": "python",
   "pygments_lexer": "ipython3",
   "version": "3.9.7"
  }
 },
 "nbformat": 4,
 "nbformat_minor": 2
}

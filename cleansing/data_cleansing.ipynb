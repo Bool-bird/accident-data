{
 "cells": [
  {
   "cell_type": "code",
   "execution_count": 11,
   "metadata": {},
   "outputs": [
    {
     "name": "stderr",
     "output_type": "stream",
     "text": [
      "C:\\Users\\추효정\\AppData\\Local\\Temp\\ipykernel_30028\\1250896495.py:17: DtypeWarning: Columns (0,8) have mixed types. Specify dtype option on import or set low_memory=False.\n",
      "  df = pd.read_csv('../data/merge_output-v2.csv', encoding='ANSI')\n"
     ]
    },
    {
     "name": "stdout",
     "output_type": "stream",
     "text": [
      "공종\n",
      "건축      10498\n",
      "토목       3988\n",
      "기타       1787\n",
      "기계설비      765\n",
      "전기설비      440\n",
      "산업설비      278\n",
      "통신설비        7\n",
      "Name: count, dtype: int64\n",
      "float64\n",
      "/n/n\n"
     ]
    },
    {
     "name": "stderr",
     "output_type": "stream",
     "text": [
      "c:\\Users\\추효정\\AppData\\Local\\Programs\\Python\\Python310\\lib\\site-packages\\sklearn\\preprocessing\\_encoders.py:868: FutureWarning: `sparse` was renamed to `sparse_output` in version 1.2 and will be removed in 1.4. `sparse_output` is ignored unless you leave `sparse` to its default value.\n",
      "  warnings.warn(\n"
     ]
    },
    {
     "data": {
      "text/plain": [
       "(       시설물 종류_건축   시설물 종류_산업환경설비   시설물 종류_조경   시설물 종류_토목   공공/민간 구분_공공   \n",
       " 2656          1.0             0.0         0.0         0.0          1.0  \\\n",
       " 13271         1.0             0.0         0.0         0.0          1.0   \n",
       " 1934          1.0             0.0         0.0         0.0          0.0   \n",
       " 9263          0.0             0.0         0.0         1.0          0.0   \n",
       " 8629          0.0             0.0         0.0         1.0          1.0   \n",
       " ...           ...             ...         ...         ...          ...   \n",
       " 5191          1.0             0.0         0.0         0.0          1.0   \n",
       " 13418         0.0             1.0         0.0         0.0          1.0   \n",
       " 5390          1.0             0.0         0.0         0.0          1.0   \n",
       " 860           1.0             0.0         0.0         0.0          1.0   \n",
       " 7270          1.0             0.0         0.0         0.0          0.0   \n",
       " \n",
       "        공공/민간 구분_민간  날씨_강설  날씨_강우  날씨_강풍  날씨_맑음  ...  공종_토목  공종_통신설비  발생일시   \n",
       " 2656           0.0    0.0    0.0    0.0    1.0  ...    0.0      0.0   4.0  \\\n",
       " 13271          0.0    0.0    0.0    0.0    0.0  ...    0.0      0.0  10.0   \n",
       " 1934           1.0    0.0    0.0    0.0    1.0  ...    0.0      0.0   6.0   \n",
       " 9263           1.0    0.0    0.0    0.0    1.0  ...    1.0      0.0   5.0   \n",
       " 8629           0.0    0.0    0.0    0.0    1.0  ...    1.0      0.0   2.0   \n",
       " ...            ...    ...    ...    ...    ...  ...    ...      ...   ...   \n",
       " 5191           0.0    0.0    0.0    0.0    1.0  ...    0.0      0.0   4.0   \n",
       " 13418          0.0    0.0    0.0    0.0    1.0  ...    0.0      0.0   8.0   \n",
       " 5390           0.0    0.0    0.0    0.0    0.0  ...    0.0      0.0   4.0   \n",
       " 860            0.0    0.0    0.0    0.0    1.0  ...    0.0      0.0  11.0   \n",
       " 7270           1.0    0.0    0.0    0.0    1.0  ...    0.0      0.0   4.0   \n",
       " \n",
       "                 공사비    공사기간    공정률   작업자수  설계안전성검토    기온    습도  \n",
       " 2656   7.500000e+09   609.0  0.245  299.0      0.0  10.0  0.43  \n",
       " 13271  1.500000e+09   145.0  0.545  299.0      0.0  20.0  0.87  \n",
       " 1934   7.500000e+09   304.0  0.445   49.0      1.0  25.0  0.90  \n",
       " 9263   2.500000e+10  1154.0  0.145   49.0      1.0  30.0  0.70  \n",
       " 8629   4.000000e+10  2519.0  0.545   99.0      0.0   6.0  0.41  \n",
       " ...             ...     ...    ...    ...      ...   ...   ...  \n",
       " 5191   1.500000e+09   364.0  0.845   19.0      1.0  20.0  0.55  \n",
       " 13418  3.500000e+09   456.0  0.100   19.0      0.0  29.0  0.78  \n",
       " 5390   4.000000e+08   234.0  0.645   19.0      1.0  18.0  0.50  \n",
       " 860    3.500000e+09   535.0  0.845  500.0      0.0   7.0  0.20  \n",
       " 7270   4.000000e+10   791.0  0.950   99.0      1.0  21.0  0.55  \n",
       " \n",
       " [11065 rows x 27 columns],\n",
       "        시설물 종류_건축   시설물 종류_산업환경설비   시설물 종류_조경   시설물 종류_토목   공공/민간 구분_공공   \n",
       " 5828          1.0             0.0         0.0         0.0          0.0  \\\n",
       " 6729          1.0             0.0         0.0         0.0          0.0   \n",
       " 12126         1.0             0.0         0.0         0.0          0.0   \n",
       " 2974          1.0             0.0         0.0         0.0          0.0   \n",
       " 2308          1.0             0.0         0.0         0.0          0.0   \n",
       " ...           ...             ...         ...         ...          ...   \n",
       " 2174          1.0             0.0         0.0         0.0          0.0   \n",
       " 3418          1.0             0.0         0.0         0.0          1.0   \n",
       " 2102          1.0             0.0         0.0         0.0          0.0   \n",
       " 3872          1.0             0.0         0.0         0.0          1.0   \n",
       " 8949          0.0             0.0         0.0         1.0          1.0   \n",
       " \n",
       "        공공/민간 구분_민간  날씨_강설  날씨_강우  날씨_강풍  날씨_맑음  ...  공종_토목  공종_통신설비  발생일시   \n",
       " 5828           1.0    0.0    0.0    0.0    1.0  ...    0.0      0.0   1.0  \\\n",
       " 6729           1.0    0.0    1.0    0.0    0.0  ...    0.0      0.0   8.0   \n",
       " 12126          1.0    0.0    0.0    0.0    0.0  ...    0.0      0.0   1.0   \n",
       " 2974           1.0    0.0    0.0    0.0    1.0  ...    0.0      0.0   2.0   \n",
       " 2308           1.0    0.0    0.0    0.0    1.0  ...    0.0      0.0   5.0   \n",
       " ...            ...    ...    ...    ...    ...  ...    ...      ...   ...   \n",
       " 2174           1.0    0.0    0.0    0.0    1.0  ...    0.0      0.0   5.0   \n",
       " 3418           0.0    0.0    0.0    0.0    1.0  ...    0.0      0.0  12.0   \n",
       " 2102           1.0    0.0    0.0    0.0    1.0  ...    0.0      0.0   6.0   \n",
       " 3872           0.0    0.0    0.0    0.0    0.0  ...    0.0      0.0  10.0   \n",
       " 8949           0.0    0.0    0.0    0.0    1.0  ...    1.0      0.0   9.0   \n",
       " \n",
       "                 공사비    공사기간    공정률   작업자수  설계안전성검토    기온    습도  \n",
       " 5828   1.250000e+10  1036.0  0.245  299.0      1.0  13.0  0.40  \n",
       " 6729   7.500000e+09   131.0  0.845   99.0      1.0  27.0  0.80  \n",
       " 12126  4.000000e+10   241.0  0.745  499.0      1.0   6.0  0.65  \n",
       " 2974   4.000000e+10   517.0  0.645  299.0      1.0  54.0  0.48  \n",
       " 2308   1.500000e+09   835.0  0.245   99.0      1.0  16.0  0.35  \n",
       " ...             ...     ...    ...    ...      ...   ...   ...  \n",
       " 2174   7.500000e+09   697.0  0.345  500.0      1.0  25.0  0.75  \n",
       " 3418   2.500000e+10  1633.0  0.745  299.0      0.0   7.0  0.30  \n",
       " 2102   4.000000e+08   214.0  0.345   19.0      1.0  23.0  0.47  \n",
       " 3872   2.500000e+10   910.0  0.345   99.0      0.0  15.0  0.70  \n",
       " 8949   2.500000e+10   729.0  0.545   49.0      1.0  25.0  0.30  \n",
       " \n",
       " [2767 rows x 27 columns],\n",
       "        공종별 위험도 평가지수\n",
       " 2656     295.776141\n",
       " 13271     46.277684\n",
       " 1934     295.776141\n",
       " 9263     123.102799\n",
       " 8629     123.102799\n",
       " ...             ...\n",
       " 5191     295.776141\n",
       " 13418     46.277684\n",
       " 5390     295.776141\n",
       " 860      295.776141\n",
       " 7270     295.776141\n",
       " \n",
       " [11065 rows x 1 columns],\n",
       "        공종별 위험도 평가지수\n",
       " 5828     295.776141\n",
       " 6729     295.776141\n",
       " 12126     21.559318\n",
       " 2974     295.776141\n",
       " 2308     295.776141\n",
       " ...             ...\n",
       " 2174     295.776141\n",
       " 3418     295.776141\n",
       " 2102     295.776141\n",
       " 3872     295.776141\n",
       " 8949     123.102799\n",
       " \n",
       " [2767 rows x 1 columns])"
      ]
     },
     "execution_count": 11,
     "metadata": {},
     "output_type": "execute_result"
    }
   ],
   "source": [
    "import sys\n",
    "sys.path.append('..')\n",
    "\n",
    "import pandas as pd\n",
    "from sklearn.preprocessing import LabelEncoder, OneHotEncoder\n",
    "from sklearn.model_selection import train_test_split\n",
    "from sklearn.preprocessing import StandardScaler\n",
    "from sklearn.compose import ColumnTransformer\n",
    "from util.preprocessing import *\n",
    "from imblearn.over_sampling import SMOTE, RandomOverSampler\n",
    "from imblearn.under_sampling import OneSidedSelection, EditedNearestNeighbours\n",
    "import re\n",
    "from dateutil import parser\n",
    "\n",
    "\n",
    "def preprocess_data():\n",
    "    df = pd.read_csv('../data/merge_output-v2.csv', encoding='ANSI')\n",
    "    #필요 없는 특성 제거\n",
    "\n",
    "    allColumns = df.columns\n",
    "    params = ['발생일시','공공/민간 구분', '기상상태', '시설물 종류', '사망자수(명)', '부상자수(명)', '공사비', '공사기간', '공정률', '작업자수', '설계안전성검토', '공종']\n",
    "\n",
    "    df = df.drop(allColumns.drop(params), axis=1)\n",
    "\n",
    "    df = df.dropna()\n",
    "\n",
    "    df['공종'] = df['공종'].apply(extract_middle_class)\n",
    "\n",
    "    print(df['공종'].value_counts())\n",
    "\n",
    "    #범주형 데이터를 수치형 데이터로 인코딩\n",
    "\n",
    "    df['사망자수(명)'] = df['사망자수(명)'].apply(parse_num_of_people)\n",
    "    df['부상자수(명)'] = df['부상자수(명)'].apply(parse_num_of_people)\n",
    "    df['발생일시'] = df['발생일시'].apply(extract_month)\n",
    "    df['시설물 종류'] = df['시설물 종류'].apply(extract_facility)\n",
    "    df['공사기간'] = df['공사기간'].apply(count_days)\n",
    "    df['공정률'] = df['공정률'].apply(str_to_median)\n",
    "    df['작업자수'] = df['작업자수'].apply(extract_population)\n",
    "    df['공사비'] = df['공사비'].apply(extract_cost)\n",
    "    safety_ratio_by_job = calculate_safety_ratios(df)\n",
    "    safety_ratio_by_job = safety_ratio_by_job.drop(['공종별 안전사고 발생 비율', '공종별 사망자 비율', '공종별 부상자 비율', '공종별 안전사고 발생강도 비율', '공종별 안전사고 발생 건수', '공종별 사망자수', '공종별 부상자수'], axis=1)\n",
    "    df = pd.merge(df, safety_ratio_by_job, on='공종', how='inner')\n",
    "    df['피해규모'] = df.apply(calc_damage_scale, axis=1)\n",
    "\n",
    "    # 기상 상태 컬럼 분리\n",
    "    df[['날씨', '기온', '습도']] = df['기상상태'].str.extract('날씨 : (\\S+)기온 : (\\d+)℃습도 : (\\d+)%')\n",
    "    df = df.drop(['기상상태'], axis=1)\n",
    "\n",
    "    df = df.dropna()\n",
    "\n",
    "    le = LabelEncoder()\n",
    "    df['설계안전성검토'] = le.fit_transform(df['설계안전성검토'])\n",
    "\n",
    "    # 시설물 종류 특성을 원-핫 인코딩\n",
    "\n",
    "    ct = ColumnTransformer([\n",
    "    ('onehot', OneHotEncoder(sparse=False), ['시설물 종류', '공공/민간 구분', '날씨', '공종'])], remainder='passthrough'\n",
    "    )\n",
    "    ct.fit(df)\n",
    "    X = ct.transform(df)\n",
    "    # 컬럼 이름 리스트 생성\n",
    "\n",
    "    num_cols = df.columns.tolist()\n",
    "    ohe = ct.named_transformers_['onehot']\n",
    "    ohe_cols = ohe.get_feature_names_out(['시설물 종류', '공공/민간 구분', '날씨', '공종']).tolist()\n",
    "    new_cols = ohe_cols + num_cols\n",
    "    new_cols.remove('시설물 종류')\n",
    "    new_cols.remove('공공/민간 구분')\n",
    "    new_cols.remove('날씨')\n",
    "    new_cols.remove('공종')\n",
    "    # DataFrame으로 변환\n",
    "\n",
    "    df = pd.DataFrame(X, columns=new_cols)\n",
    "\n",
    "    df = df.astype('float64')\n",
    "\n",
    "    df['습도'] = df['습도'].apply(lambda x: x/100)\n",
    "\n",
    "    # --------------------정제 완료 ----------------------------\n",
    "\n",
    "    X = df.drop(['사망자수(명)', '부상자수(명)', '피해규모', '공종별 위험도 평가지수'], axis=1)\n",
    "    y = df[['공종별 위험도 평가지수']]\n",
    "    \n",
    "    X_train, X_test, y_train, y_test = train_test_split(X, y, test_size=0.2, random_state=42)\n",
    "\n",
    "    return X_train, X_test, y_train, y_test\n",
    "\n",
    "preprocess_data()"
   ]
  },
  {
   "cell_type": "code",
   "execution_count": 3,
   "metadata": {},
   "outputs": [
    {
     "name": "stderr",
     "output_type": "stream",
     "text": [
      "C:\\Users\\추효정\\AppData\\Local\\Temp\\ipykernel_30028\\286497571.py:17: DtypeWarning: Columns (0,8) have mixed types. Specify dtype option on import or set low_memory=False.\n",
      "  df = pd.read_csv('../data/merge_output-v2.csv', encoding='ANSI')\n"
     ]
    },
    {
     "name": "stdout",
     "output_type": "stream",
     "text": [
      "공종\n",
      "건축      10498\n",
      "토목       3988\n",
      "기타       1787\n",
      "기계설비      765\n",
      "전기설비      440\n",
      "산업설비      278\n",
      "통신설비        7\n",
      "Name: count, dtype: int64\n"
     ]
    },
    {
     "name": "stderr",
     "output_type": "stream",
     "text": [
      "c:\\Users\\추효정\\AppData\\Local\\Programs\\Python\\Python310\\lib\\site-packages\\sklearn\\preprocessing\\_encoders.py:868: FutureWarning: `sparse` was renamed to `sparse_output` in version 1.2 and will be removed in 1.4. `sparse_output` is ignored unless you leave `sparse` to its default value.\n",
      "  warnings.warn(\n"
     ]
    },
    {
     "name": "stdout",
     "output_type": "stream",
     "text": [
      "MSE: 4.645272255331476e-22\n"
     ]
    }
   ],
   "source": [
    "from sklearn.linear_model import LinearRegression\n",
    "from sklearn.metrics import mean_squared_error\n",
    "# 데이터 분리\n",
    "X_train, X_test, y_train, y_test = preprocess_data()\n",
    "\n",
    "# 모델 초기화\n",
    "lr_model = LinearRegression()\n",
    "\n",
    "# 모델 학습\n",
    "lr_model.fit(X_train, y_train)\n",
    "\n",
    "# 예측 수행\n",
    "y_pred = lr_model.predict(X_test)\n",
    "\n",
    "# 예측값과 실제값의 MSE 계산\n",
    "mse = mean_squared_error(y_test, y_pred)\n",
    "print(\"MSE:\", mse)"
   ]
  },
  {
   "cell_type": "code",
   "execution_count": 4,
   "metadata": {},
   "outputs": [
    {
     "name": "stderr",
     "output_type": "stream",
     "text": [
      "C:\\Users\\추효정\\AppData\\Local\\Temp\\ipykernel_30028\\286497571.py:17: DtypeWarning: Columns (0,8) have mixed types. Specify dtype option on import or set low_memory=False.\n",
      "  df = pd.read_csv('../data/merge_output-v2.csv', encoding='ANSI')\n"
     ]
    },
    {
     "name": "stdout",
     "output_type": "stream",
     "text": [
      "공종\n",
      "건축      10498\n",
      "토목       3988\n",
      "기타       1787\n",
      "기계설비      765\n",
      "전기설비      440\n",
      "산업설비      278\n",
      "통신설비        7\n",
      "Name: count, dtype: int64\n"
     ]
    },
    {
     "name": "stderr",
     "output_type": "stream",
     "text": [
      "c:\\Users\\추효정\\AppData\\Local\\Programs\\Python\\Python310\\lib\\site-packages\\sklearn\\preprocessing\\_encoders.py:868: FutureWarning: `sparse` was renamed to `sparse_output` in version 1.2 and will be removed in 1.4. `sparse_output` is ignored unless you leave `sparse` to its default value.\n",
      "  warnings.warn(\n"
     ]
    },
    {
     "name": "stdout",
     "output_type": "stream",
     "text": [
      "Linear Regression 학습 완료.\n",
      "Ridge Regression 학습 완료.\n"
     ]
    },
    {
     "name": "stderr",
     "output_type": "stream",
     "text": [
      "c:\\Users\\추효정\\AppData\\Local\\Programs\\Python\\Python310\\lib\\site-packages\\sklearn\\linear_model\\_ridge.py:216: LinAlgWarning: Ill-conditioned matrix (rcond=5.64956e-25): result may not be accurate.\n",
      "  return linalg.solve(A, Xy, assume_a=\"pos\", overwrite_a=True).T\n"
     ]
    },
    {
     "name": "stdout",
     "output_type": "stream",
     "text": [
      "Lasso Regression 학습 완료.\n",
      "Enet Regression 학습 완료.\n",
      "Dicision Tree Regression 학습 완료.\n"
     ]
    },
    {
     "name": "stderr",
     "output_type": "stream",
     "text": [
      "C:\\Users\\추효정\\AppData\\Local\\Temp\\ipykernel_30028\\1395002390.py:41: DataConversionWarning: A column-vector y was passed when a 1d array was expected. Please change the shape of y to (n_samples,), for example using ravel().\n",
      "  rf.fit(X_train, y_train)\n"
     ]
    },
    {
     "name": "stdout",
     "output_type": "stream",
     "text": [
      "RandomForest Regression 학습 완료.\n",
      "Linear Regression\n",
      "Mean Squared Error: 4.645272255331476e-22\n",
      "Ridge Regression\n",
      "Mean Squared Error: 0.2572209097662373\n",
      "Lasso Regression\n",
      "Mean Squared Error: 2.372742060224831\n",
      "ElasticNet Regression\n",
      "Mean Squared Error: 311.2538635649913\n",
      "Decision Tree Regressor\n",
      "Mean Squared Error: 0.013164277910167223\n",
      "Random Forest Regressor\n",
      "Mean Squared Error: 0.013129920053161563\n"
     ]
    }
   ],
   "source": [
    "from sklearn.linear_model import LinearRegression, Ridge, Lasso, ElasticNet\n",
    "from sklearn.tree import DecisionTreeRegressor\n",
    "from sklearn.ensemble import RandomForestRegressor\n",
    "from sklearn.svm import SVR\n",
    "from sklearn.metrics import mean_squared_error, r2_score\n",
    "\n",
    "X_train, X_test, y_train, y_test = preprocess_data()\n",
    "\n",
    "# 선형 회귀 모델 학습 및 예측\n",
    "lr = LinearRegression()\n",
    "lr.fit(X_train, y_train)\n",
    "lr_pred = lr.predict(X_test)\n",
    "print(\"Linear Regression 학습 완료.\")\n",
    "\n",
    "# Ridge 회귀 모델 학습 및 예측\n",
    "ridge = Ridge(alpha=1.0)\n",
    "ridge.fit(X_train, y_train)\n",
    "ridge_pred = ridge.predict(X_test)\n",
    "print(\"Ridge Regression 학습 완료.\")\n",
    "\n",
    "# Lasso 회귀 모델 학습 및 예측\n",
    "lasso = Lasso(alpha=0.1)\n",
    "lasso.fit(X_train, y_train)\n",
    "lasso_pred = lasso.predict(X_test)\n",
    "print(\"Lasso Regression 학습 완료.\")\n",
    "\n",
    "# ElasticNet 회귀 모델 학습 및 예측\n",
    "enet = ElasticNet(alpha=0.1, l1_ratio=0.7)\n",
    "enet.fit(X_train, y_train)\n",
    "enet_pred = enet.predict(X_test)\n",
    "print(\"Enet Regression 학습 완료.\")\n",
    "\n",
    "# 결정 트리 회귀 모델 학습 및 예측\n",
    "dt = DecisionTreeRegressor(max_depth=5, random_state=42)\n",
    "dt.fit(X_train, y_train)\n",
    "dt_pred = dt.predict(X_test)\n",
    "print(\"Dicision Tree Regression 학습 완료.\")\n",
    "\n",
    "# 랜덤 포레스트 회귀 모델 학습 및 예측\n",
    "rf = RandomForestRegressor(n_estimators=100, max_depth=5, random_state=42)\n",
    "rf.fit(X_train, y_train)\n",
    "rf_pred = rf.predict(X_test)\n",
    "print(\"RandomForest Regression 학습 완료.\")\n",
    "\n",
    "# SVM 회귀 모델 학습 및 예측\n",
    "# svm = SVR(kernel='linear')\n",
    "# svm.fit(X_train, y_train)\n",
    "# svm_pred = svm.predict(X_test)\n",
    "# print(\"SVM Regression 학습 완료.\")\n",
    "\n",
    "# 각 모델의 성능 평가\n",
    "models = [lr, ridge, lasso, enet, dt, rf]\n",
    "model_names = ['Linear Regression', 'Ridge Regression', 'Lasso Regression', 'ElasticNet Regression',\n",
    "               'Decision Tree Regressor', 'Random Forest Regressor']\n",
    "model_preds = [lr_pred, ridge_pred, lasso_pred, enet_pred, dt_pred, rf_pred]\n",
    "\n",
    "for i, model in enumerate(models):\n",
    "    print(model_names[i])\n",
    "    print('Mean Squared Error:', mean_squared_error(y_test, model_preds[i]))\n"
   ]
  },
  {
   "cell_type": "code",
   "execution_count": 5,
   "metadata": {},
   "outputs": [
    {
     "data": {
      "image/png": "[encoded data removed]",
      "text/plain": [
       "<Figure size 1200x500 with 2 Axes>"
      ]
     },
     "metadata": {},
     "output_type": "display_data"
    }
   ],
   "source": [
    "# 모델 예측값과 y 레이블의 정답값 분포 시각화\n",
    "import matplotlib.pyplot as plt\n",
    "import numpy as np\n",
    "import pandas as pd\n",
    "\n",
    "# 예측값과 실제값의 분포 시각화\n",
    "fig, axs = plt.subplots(1, 2, figsize=(12, 5))\n",
    "fig.suptitle('Actual vs Predicted')\n",
    "\n",
    "# y_test 히스토그램\n",
    "axs[0].hist(y_test, bins=30, alpha=0.5, color='blue', label='Actual')\n",
    "axs[0].set_xlabel('Damage Scale')\n",
    "axs[0].set_ylabel('Frequency')\n",
    "\n",
    "# lr_pred, ridge_pred, lasso_pred, enet_pred, dt_pred, rf_pred\n",
    "# y_pred_lgb 히스토그램\n",
    "axs[1].hist(lr_pred, bins=30, alpha=0.5, color='red', label='Predicted')\n",
    "axs[1].set_xlabel('Damage Scale')\n",
    "axs[1].set_ylabel('Frequency')\n",
    "\n",
    "plt.show()\n",
    "\n"
   ]
  },
  {
   "cell_type": "code",
   "execution_count": 6,
   "metadata": {},
   "outputs": [
    {
     "data": {
      "image/png": "[encoded data removed]",
      "text/plain": [
       "<Figure size 640x480 with 1 Axes>"
      ]
     },
     "metadata": {},
     "output_type": "display_data"
    }
   ],
   "source": [
    "fig, ax = plt.subplots()\n",
    "ax.hist(y_test, bins=30, alpha=0.5, color='blue', label='Actual')\n",
    "ax.hist(lr_pred, bins=30, alpha=0.5, color='red', label='Predicted')\n",
    "ax.set_xlabel('Damage Scale')\n",
    "ax.set_ylabel('Frequency')\n",
    "ax.legend()\n",
    "plt.show()"
   ]
  },
  {
   "cell_type": "code",
   "execution_count": 7,
   "metadata": {},
   "outputs": [
    {
     "data": {
      "image/png": "[encoded data removed]",
      "text/plain": [
       "<Figure size 800x800 with 1 Axes>"
      ]
     },
     "metadata": {},
     "output_type": "display_data"
    }
   ],
   "source": [
    "import matplotlib.pyplot as plt\n",
    "\n",
    "predictions = lr_pred\n",
    "\n",
    "# 예측값과 실제값 비교\n",
    "plt.figure(figsize=(8, 8))\n",
    "plt.scatter(y_test, predictions, alpha=0.5)\n",
    "plt.plot([y_test.min(), y_test.max()], [predictions.min(), predictions.max()], 'k--', lw=4)\n",
    "plt.xlabel('True Value')\n",
    "plt.ylabel('Prediction')\n",
    "plt.show()\n"
   ]
  },
  {
   "cell_type": "code",
   "execution_count": 8,
   "metadata": {},
   "outputs": [
    {
     "ename": "KeyError",
     "evalue": "'피해규모'",
     "output_type": "error",
     "traceback": [
      "\u001b[1;31m---------------------------------------------------------------------------\u001b[0m",
      "\u001b[1;31mKeyError\u001b[0m                                  Traceback (most recent call last)",
      "File \u001b[1;32mc:\\Users\\추효정\\AppData\\Local\\Programs\\Python\\Python310\\lib\\site-packages\\pandas\\core\\indexes\\base.py:3652\u001b[0m, in \u001b[0;36mIndex.get_loc\u001b[1;34m(self, key)\u001b[0m\n\u001b[0;32m   3651\u001b[0m \u001b[39mtry\u001b[39;00m:\n\u001b[1;32m-> 3652\u001b[0m     \u001b[39mreturn\u001b[39;00m \u001b[39mself\u001b[39;49m\u001b[39m.\u001b[39;49m_engine\u001b[39m.\u001b[39;49mget_loc(casted_key)\n\u001b[0;32m   3653\u001b[0m \u001b[39mexcept\u001b[39;00m \u001b[39mKeyError\u001b[39;00m \u001b[39mas\u001b[39;00m err:\n",
      "File \u001b[1;32mc:\\Users\\추효정\\AppData\\Local\\Programs\\Python\\Python310\\lib\\site-packages\\pandas\\_libs\\index.pyx:147\u001b[0m, in \u001b[0;36mpandas._libs.index.IndexEngine.get_loc\u001b[1;34m()\u001b[0m\n",
      "File \u001b[1;32mc:\\Users\\추효정\\AppData\\Local\\Programs\\Python\\Python310\\lib\\site-packages\\pandas\\_libs\\index.pyx:176\u001b[0m, in \u001b[0;36mpandas._libs.index.IndexEngine.get_loc\u001b[1;34m()\u001b[0m\n",
      "File \u001b[1;32mpandas\\_libs\\hashtable_class_helper.pxi:7080\u001b[0m, in \u001b[0;36mpandas._libs.hashtable.PyObjectHashTable.get_item\u001b[1;34m()\u001b[0m\n",
      "File \u001b[1;32mpandas\\_libs\\hashtable_class_helper.pxi:7088\u001b[0m, in \u001b[0;36mpandas._libs.hashtable.PyObjectHashTable.get_item\u001b[1;34m()\u001b[0m\n",
      "\u001b[1;31mKeyError\u001b[0m: '피해규모'",
      "\nThe above exception was the direct cause of the following exception:\n",
      "\u001b[1;31mKeyError\u001b[0m                                  Traceback (most recent call last)",
      "Cell \u001b[1;32mIn[8], line 8\u001b[0m\n\u001b[0;32m      5\u001b[0m predictions \u001b[39m=\u001b[39m dt_pred\n\u001b[0;32m      7\u001b[0m \u001b[39m# y_test: 실제 값, prediction: 예측 값\u001b[39;00m\n\u001b[1;32m----> 8\u001b[0m accuracy \u001b[39m=\u001b[39m np\u001b[39m.\u001b[39msum(np\u001b[39m.\u001b[39mabs(y_test[\u001b[39m'\u001b[39;49m\u001b[39m피해규모\u001b[39;49m\u001b[39m'\u001b[39;49m]\u001b[39m.\u001b[39mvalues \u001b[39m-\u001b[39m predictions) \u001b[39m<\u001b[39m\u001b[39m=\u001b[39m \u001b[39m0.1\u001b[39m) \u001b[39m/\u001b[39m \u001b[39mlen\u001b[39m(y_test)\n\u001b[0;32m     10\u001b[0m \u001b[39mprint\u001b[39m(\u001b[39m\"\u001b[39m\u001b[39mAccuracy: \u001b[39m\u001b[39m{:.2f}\u001b[39;00m\u001b[39m%\u001b[39m\u001b[39m\"\u001b[39m\u001b[39m.\u001b[39mformat(accuracy \u001b[39m*\u001b[39m \u001b[39m100\u001b[39m))\n",
      "File \u001b[1;32mc:\\Users\\추효정\\AppData\\Local\\Programs\\Python\\Python310\\lib\\site-packages\\pandas\\core\\frame.py:3760\u001b[0m, in \u001b[0;36mDataFrame.__getitem__\u001b[1;34m(self, key)\u001b[0m\n\u001b[0;32m   3758\u001b[0m \u001b[39mif\u001b[39;00m \u001b[39mself\u001b[39m\u001b[39m.\u001b[39mcolumns\u001b[39m.\u001b[39mnlevels \u001b[39m>\u001b[39m \u001b[39m1\u001b[39m:\n\u001b[0;32m   3759\u001b[0m     \u001b[39mreturn\u001b[39;00m \u001b[39mself\u001b[39m\u001b[39m.\u001b[39m_getitem_multilevel(key)\n\u001b[1;32m-> 3760\u001b[0m indexer \u001b[39m=\u001b[39m \u001b[39mself\u001b[39;49m\u001b[39m.\u001b[39;49mcolumns\u001b[39m.\u001b[39;49mget_loc(key)\n\u001b[0;32m   3761\u001b[0m \u001b[39mif\u001b[39;00m is_integer(indexer):\n\u001b[0;32m   3762\u001b[0m     indexer \u001b[39m=\u001b[39m [indexer]\n",
      "File \u001b[1;32mc:\\Users\\추효정\\AppData\\Local\\Programs\\Python\\Python310\\lib\\site-packages\\pandas\\core\\indexes\\base.py:3654\u001b[0m, in \u001b[0;36mIndex.get_loc\u001b[1;34m(self, key)\u001b[0m\n\u001b[0;32m   3652\u001b[0m     \u001b[39mreturn\u001b[39;00m \u001b[39mself\u001b[39m\u001b[39m.\u001b[39m_engine\u001b[39m.\u001b[39mget_loc(casted_key)\n\u001b[0;32m   3653\u001b[0m \u001b[39mexcept\u001b[39;00m \u001b[39mKeyError\u001b[39;00m \u001b[39mas\u001b[39;00m err:\n\u001b[1;32m-> 3654\u001b[0m     \u001b[39mraise\u001b[39;00m \u001b[39mKeyError\u001b[39;00m(key) \u001b[39mfrom\u001b[39;00m \u001b[39merr\u001b[39;00m\n\u001b[0;32m   3655\u001b[0m \u001b[39mexcept\u001b[39;00m \u001b[39mTypeError\u001b[39;00m:\n\u001b[0;32m   3656\u001b[0m     \u001b[39m# If we have a listlike key, _check_indexing_error will raise\u001b[39;00m\n\u001b[0;32m   3657\u001b[0m     \u001b[39m#  InvalidIndexError. Otherwise we fall through and re-raise\u001b[39;00m\n\u001b[0;32m   3658\u001b[0m     \u001b[39m#  the TypeError.\u001b[39;00m\n\u001b[0;32m   3659\u001b[0m     \u001b[39mself\u001b[39m\u001b[39m.\u001b[39m_check_indexing_error(key)\n",
      "\u001b[1;31mKeyError\u001b[0m: '피해규모'"
     ]
    }
   ],
   "source": [
    "import numpy as np\n",
    "import pandas as pd\n",
    "import matplotlib.pyplot as plt\n",
    "\n",
    "predictions = dt_pred\n",
    "\n",
    "# y_test: 실제 값, prediction: 예측 값\n",
    "accuracy = np.sum(np.abs(y_test['피해규모'].values - predictions) <= 0.1) / len(y_test)\n",
    "\n",
    "print(\"Accuracy: {:.2f}%\".format(accuracy * 100))"
   ]
  }
 ],
 "metadata": {
  "kernelspec": {
   "display_name": "bert-study",
   "language": "python",
   "name": "python3"
  },
  "language_info": {
   "codemirror_mode": {
    "name": "ipython",
    "version": 3
   },
   "file_extension": ".py",
   "mimetype": "text/x-python",
   "name": "python",
   "nbconvert_exporter": "python",
   "pygments_lexer": "ipython3",
   "version": "3.10.7"
  },
  "orig_nbformat": 4
 },
 "nbformat": 4,
 "nbformat_minor": 2
}

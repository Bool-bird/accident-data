{
 "cells": [
  {
   "cell_type": "code",
   "execution_count": 8,
   "metadata": {},
   "outputs": [
    {
     "name": "stderr",
     "output_type": "stream",
     "text": [
      "c:\\Users\\추효정\\AppData\\Local\\Programs\\Python\\Python310\\lib\\site-packages\\sklearn\\preprocessing\\_encoders.py:868: FutureWarning: `sparse` was renamed to `sparse_output` in version 1.2 and will be removed in 1.4. `sparse_output` is ignored unless you leave `sparse` to its default value.\n",
      "  warnings.warn(\n"
     ]
    },
    {
     "name": "stdout",
     "output_type": "stream",
     "text": [
      "['시설물 종류_건축 ', '시설물 종류_산업환경설비 ', '시설물 종류_조경 ', '시설물 종류_토목 ', '공공/민간 구분_공공', '공공/민간 구분_민간', '날씨_강설', '날씨_강우', '날씨_강풍', '날씨_맑음', '날씨_안개', '날씨_흐림', '발생일시', '사망자수(명)', '부상자수(명)', '공사비', '공사기간', '공정률', '작업자수', '설계안전성검토', '공종별 안전사고 발생비율 위험도', '공종별 안전사고 발생강도 위험도', '피해규모', '기온', '습도']\n"
     ]
    },
    {
     "ename": "KeyError",
     "evalue": "\"None of [Index(['공종별 위험도 평가지수'], dtype='object')] are in the [columns]\"",
     "output_type": "error",
     "traceback": [
      "\u001b[1;31m---------------------------------------------------------------------------\u001b[0m",
      "\u001b[1;31mKeyError\u001b[0m                                  Traceback (most recent call last)",
      "Cell \u001b[1;32mIn[8], line 186\u001b[0m\n\u001b[0;32m    182\u001b[0m     X_train, X_test, y_train, y_test \u001b[39m=\u001b[39m train_test_split(X, y, test_size\u001b[39m=\u001b[39m\u001b[39m0.2\u001b[39m, random_state\u001b[39m=\u001b[39m\u001b[39m42\u001b[39m)\n\u001b[0;32m    184\u001b[0m     \u001b[39mreturn\u001b[39;00m X_train, X_test, y_train, y_test\n\u001b[1;32m--> 186\u001b[0m preprocess_data()\n",
      "Cell \u001b[1;32mIn[8], line 180\u001b[0m, in \u001b[0;36mpreprocess_data\u001b[1;34m()\u001b[0m\n\u001b[0;32m    176\u001b[0m \u001b[39m# --------------------정제 완료 ----------------------------\u001b[39;00m\n\u001b[0;32m    177\u001b[0m \n\u001b[0;32m    178\u001b[0m \u001b[39m# X = df.drop(['사망자수(명)', '부상자수(명)', '피해규모', '공종별 위험도 평가지수'], axis=1)\u001b[39;00m\n\u001b[0;32m    179\u001b[0m X \u001b[39m=\u001b[39m df\u001b[39m.\u001b[39mdrop([\u001b[39m'\u001b[39m\u001b[39m사망자수(명)\u001b[39m\u001b[39m'\u001b[39m, \u001b[39m'\u001b[39m\u001b[39m부상자수(명)\u001b[39m\u001b[39m'\u001b[39m, \u001b[39m'\u001b[39m\u001b[39m피해규모\u001b[39m\u001b[39m'\u001b[39m], axis\u001b[39m=\u001b[39m\u001b[39m1\u001b[39m)\n\u001b[1;32m--> 180\u001b[0m y \u001b[39m=\u001b[39m df[[\u001b[39m'\u001b[39;49m\u001b[39m공종별 위험도 평가지수\u001b[39;49m\u001b[39m'\u001b[39;49m]]\n\u001b[0;32m    182\u001b[0m X_train, X_test, y_train, y_test \u001b[39m=\u001b[39m train_test_split(X, y, test_size\u001b[39m=\u001b[39m\u001b[39m0.2\u001b[39m, random_state\u001b[39m=\u001b[39m\u001b[39m42\u001b[39m)\n\u001b[0;32m    184\u001b[0m \u001b[39mreturn\u001b[39;00m X_train, X_test, y_train, y_test\n",
      "File \u001b[1;32mc:\\Users\\추효정\\AppData\\Local\\Programs\\Python\\Python310\\lib\\site-packages\\pandas\\core\\frame.py:3766\u001b[0m, in \u001b[0;36mDataFrame.__getitem__\u001b[1;34m(self, key)\u001b[0m\n\u001b[0;32m   3764\u001b[0m     \u001b[39mif\u001b[39;00m is_iterator(key):\n\u001b[0;32m   3765\u001b[0m         key \u001b[39m=\u001b[39m \u001b[39mlist\u001b[39m(key)\n\u001b[1;32m-> 3766\u001b[0m     indexer \u001b[39m=\u001b[39m \u001b[39mself\u001b[39;49m\u001b[39m.\u001b[39;49mcolumns\u001b[39m.\u001b[39;49m_get_indexer_strict(key, \u001b[39m\"\u001b[39;49m\u001b[39mcolumns\u001b[39;49m\u001b[39m\"\u001b[39;49m)[\u001b[39m1\u001b[39m]\n\u001b[0;32m   3768\u001b[0m \u001b[39m# take() does not accept boolean indexers\u001b[39;00m\n\u001b[0;32m   3769\u001b[0m \u001b[39mif\u001b[39;00m \u001b[39mgetattr\u001b[39m(indexer, \u001b[39m\"\u001b[39m\u001b[39mdtype\u001b[39m\u001b[39m\"\u001b[39m, \u001b[39mNone\u001b[39;00m) \u001b[39m==\u001b[39m \u001b[39mbool\u001b[39m:\n",
      "File \u001b[1;32mc:\\Users\\추효정\\AppData\\Local\\Programs\\Python\\Python310\\lib\\site-packages\\pandas\\core\\indexes\\base.py:5876\u001b[0m, in \u001b[0;36mIndex._get_indexer_strict\u001b[1;34m(self, key, axis_name)\u001b[0m\n\u001b[0;32m   5873\u001b[0m \u001b[39melse\u001b[39;00m:\n\u001b[0;32m   5874\u001b[0m     keyarr, indexer, new_indexer \u001b[39m=\u001b[39m \u001b[39mself\u001b[39m\u001b[39m.\u001b[39m_reindex_non_unique(keyarr)\n\u001b[1;32m-> 5876\u001b[0m \u001b[39mself\u001b[39;49m\u001b[39m.\u001b[39;49m_raise_if_missing(keyarr, indexer, axis_name)\n\u001b[0;32m   5878\u001b[0m keyarr \u001b[39m=\u001b[39m \u001b[39mself\u001b[39m\u001b[39m.\u001b[39mtake(indexer)\n\u001b[0;32m   5879\u001b[0m \u001b[39mif\u001b[39;00m \u001b[39misinstance\u001b[39m(key, Index):\n\u001b[0;32m   5880\u001b[0m     \u001b[39m# GH 42790 - Preserve name from an Index\u001b[39;00m\n",
      "File \u001b[1;32mc:\\Users\\추효정\\AppData\\Local\\Programs\\Python\\Python310\\lib\\site-packages\\pandas\\core\\indexes\\base.py:5935\u001b[0m, in \u001b[0;36mIndex._raise_if_missing\u001b[1;34m(self, key, indexer, axis_name)\u001b[0m\n\u001b[0;32m   5933\u001b[0m     \u001b[39mif\u001b[39;00m use_interval_msg:\n\u001b[0;32m   5934\u001b[0m         key \u001b[39m=\u001b[39m \u001b[39mlist\u001b[39m(key)\n\u001b[1;32m-> 5935\u001b[0m     \u001b[39mraise\u001b[39;00m \u001b[39mKeyError\u001b[39;00m(\u001b[39mf\u001b[39m\u001b[39m\"\u001b[39m\u001b[39mNone of [\u001b[39m\u001b[39m{\u001b[39;00mkey\u001b[39m}\u001b[39;00m\u001b[39m] are in the [\u001b[39m\u001b[39m{\u001b[39;00maxis_name\u001b[39m}\u001b[39;00m\u001b[39m]\u001b[39m\u001b[39m\"\u001b[39m)\n\u001b[0;32m   5937\u001b[0m not_found \u001b[39m=\u001b[39m \u001b[39mlist\u001b[39m(ensure_index(key)[missing_mask\u001b[39m.\u001b[39mnonzero()[\u001b[39m0\u001b[39m]]\u001b[39m.\u001b[39munique())\n\u001b[0;32m   5938\u001b[0m \u001b[39mraise\u001b[39;00m \u001b[39mKeyError\u001b[39;00m(\u001b[39mf\u001b[39m\u001b[39m\"\u001b[39m\u001b[39m{\u001b[39;00mnot_found\u001b[39m}\u001b[39;00m\u001b[39m not in index\u001b[39m\u001b[39m\"\u001b[39m)\n",
      "\u001b[1;31mKeyError\u001b[0m: \"None of [Index(['공종별 위험도 평가지수'], dtype='object')] are in the [columns]\""
     ]
    }
   ],
   "source": [
    "# import sys\n",
    "# sys.path.append('..')\n",
    "\n",
    "# import pandas as pd\n",
    "# from sklearn.preprocessing import LabelEncoder, OneHotEncoder\n",
    "# from sklearn.model_selection import train_test_split\n",
    "# from sklearn.preprocessing import StandardScaler\n",
    "# from sklearn.compose import ColumnTransformer\n",
    "# from util.preprocessing import *\n",
    "# from imblearn.over_sampling import SMOTE, RandomOverSampler\n",
    "# from imblearn.under_sampling import OneSidedSelection, EditedNearestNeighbours\n",
    "# import re\n",
    "# from dateutil import parser\n",
    "\n",
    "\n",
    "# def preprocess_data():\n",
    "#     df = pd.read_csv('../data/output-v2.csv')\n",
    "#     #필요 없는 특성 제거\n",
    "\n",
    "#     allColumns = df.columns\n",
    "#     params = ['발생일시','공공/민간 구분', '기상상태', '시설물 종류', '사망자수(명)', '부상자수(명)', '공사비', '공사기간', '공정률', '작업자수', '설계안전성검토', '공종']\n",
    "\n",
    "#     df = df.drop(allColumns.drop(params), axis=1)\n",
    "\n",
    "#     df = df.dropna()\n",
    "\n",
    "#     df['공종'] = df['공종'].apply(extract_middle_class)\n",
    "\n",
    "#     print(df['공종'].value_counts())\n",
    "\n",
    "#     #범주형 데이터를 수치형 데이터로 인코딩\n",
    "\n",
    "#     df['사망자수(명)'] = df['사망자수(명)'].apply(parse_num_of_people)\n",
    "#     df['부상자수(명)'] = df['부상자수(명)'].apply(parse_num_of_people)\n",
    "#     df['발생일시'] = df['발생일시'].apply(extract_month)\n",
    "#     df['시설물 종류'] = df['시설물 종류'].apply(extract_facility)\n",
    "#     df['공사기간'] = df['공사기간'].apply(count_days)\n",
    "#     df['공정률'] = df['공정률'].apply(str_to_median)\n",
    "#     df['작업자수'] = df['작업자수'].apply(extract_population)\n",
    "#     df['공사비'] = df['공사비'].apply(extract_cost)\n",
    "#     safety_ratio_by_job = calculate_safety_ratios(df)\n",
    "#     safety_ratio_by_job = safety_ratio_by_job.drop(['공종별 안전사고 발생 비율', '공종별 사망자 비율', '공종별 부상자 비율', '공종별 안전사고 발생강도 비율', '공종별 안전사고 발생 건수', '공종별 사망자수', '공종별 부상자수'], axis=1)\n",
    "#     df = pd.merge(df, safety_ratio_by_job, on='공종', how='inner')\n",
    "#     df['피해규모'] = df.apply(calc_damage_scale, axis=1)\n",
    "\n",
    "#     # 기상 상태 컬럼 분리\n",
    "#     df[['날씨', '기온', '습도']] = df['기상상태'].str.extract('날씨 : (\\S+)기온 : (\\d+)℃습도 : (\\d+)%')\n",
    "#     df = df.drop(['기상상태'], axis=1)\n",
    "\n",
    "#     df = df.dropna()\n",
    "\n",
    "#     le = LabelEncoder()\n",
    "#     df['설계안전성검토'] = le.fit_transform(df['설계안전성검토'])\n",
    "\n",
    "#     # 시설물 종류 특성을 원-핫 인코딩\n",
    "\n",
    "#     ct = ColumnTransformer([\n",
    "#     ('onehot', OneHotEncoder(sparse=False), ['시설물 종류', '공공/민간 구분', '날씨', '공종'])], remainder='passthrough'\n",
    "#     )\n",
    "#     ct.fit(df)\n",
    "#     X = ct.transform(df)\n",
    "#     # 컬럼 이름 리스트 생성\n",
    "\n",
    "#     num_cols = df.columns.tolist()\n",
    "#     ohe = ct.named_transformers_['onehot']\n",
    "#     ohe_cols = ohe.get_feature_names_out(['시설물 종류', '공공/민간 구분', '날씨', '공종']).tolist()\n",
    "#     new_cols = ohe_cols + num_cols\n",
    "#     new_cols.remove('시설물 종류')\n",
    "#     new_cols.remove('공공/민간 구분')\n",
    "#     new_cols.remove('날씨')\n",
    "#     new_cols.remove('공종')\n",
    "#     # DataFrame으로 변환\n",
    "\n",
    "#     df = pd.DataFrame(X, columns=new_cols)\n",
    "\n",
    "#     df = df.astype('float64')\n",
    "\n",
    "#     df['습도'] = df['습도'].apply(lambda x: x/100)\n",
    "\n",
    "#     # --------------------정제 완료 ----------------------------\n",
    "\n",
    "#     X = df.drop(['사망자수(명)', '부상자수(명)', '피해규모', '공종별 위험도 평가지수'], axis=1)\n",
    "#     y = df[['공종별 위험도 평가지수']]\n",
    "    \n",
    "#     X_train, X_test, y_train, y_test = train_test_split(X, y, test_size=0.2, random_state=42)\n",
    "\n",
    "#     return X_train, X_test, y_train, y_test\n",
    "\n",
    "# preprocess_data()\n",
    "\n",
    "import sys\n",
    "sys.path.append('..')\n",
    "\n",
    "import pandas as pd\n",
    "from sklearn.preprocessing import LabelEncoder, OneHotEncoder\n",
    "from sklearn.model_selection import train_test_split\n",
    "from sklearn.preprocessing import StandardScaler\n",
    "from sklearn.compose import ColumnTransformer\n",
    "from util.preprocessing import *\n",
    "from imblearn.over_sampling import SMOTE, RandomOverSampler\n",
    "from imblearn.under_sampling import OneSidedSelection, EditedNearestNeighbours\n",
    "import re\n",
    "from dateutil import parser\n",
    "\n",
    "\n",
    "def preprocess_data():\n",
    "    df = pd.read_csv('../data/output-v2.csv')\n",
    "    #필요 없는 특성 제거\n",
    "\n",
    "    allColumns = df.columns\n",
    "    params = ['발생일시','공공/민간 구분', '기상상태', '시설물 종류', '사망자수(명)', '부상자수(명)', '공사비', '공사기간', '공정률', '작업자수', '설계안전성검토', '공종']\n",
    "    # params = ['발생일시','공공/민간 구분', '기상상태', '시설물 종류', '사망자수(명)', '부상자수(명)', '공사비', '공사기간', '공정률', '작업자수', '설계안전성검토']\n",
    "\n",
    "    df = df.drop(allColumns.drop(params), axis=1)\n",
    "\n",
    "    df = df.dropna()\n",
    "\n",
    "    df['공종'] = df['공종'].apply(extract_middle_class)\n",
    "\n",
    "    #범주형 데이터를 수치형 데이터로 인코딩\n",
    "\n",
    "    df['사망자수(명)'] = df['사망자수(명)'].apply(parse_num_of_people)\n",
    "    df['부상자수(명)'] = df['부상자수(명)'].apply(parse_num_of_people)\n",
    "    df['발생일시'] = df['발생일시'].apply(extract_month)\n",
    "    df['시설물 종류'] = df['시설물 종류'].apply(extract_facility)\n",
    "    df['공사기간'] = df['공사기간'].apply(count_days)\n",
    "    df['공정률'] = df['공정률'].apply(str_to_median)\n",
    "    df['작업자수'] = df['작업자수'].apply(extract_population)\n",
    "    df['공사비'] = df['공사비'].apply(extract_cost)\n",
    "    safety_ratio_by_job = calculate_safety_ratios(df)\n",
    "    safety_ratio_by_job = safety_ratio_by_job.drop(['공종별 안전사고 발생비율', '공종별 사망자 비율', '공종별 부상자 비율', '공종별 안전사고 발생강도 비율', '공종별 안전사고 발생 건수', '공종별 사망자수', '공종별 부상자수', '공종별 안전사고 발생비율 위험도', '공종별 안전사고 발생강도 위험도'], axis=1)\n",
    "    df = pd.merge(df, safety_ratio_by_job, on='공종', how='inner')\n",
    "    df['피해규모'] = df.apply(calc_damage_scale, axis=1)\n",
    "\n",
    "    # 기상 상태 컬럼 분리\n",
    "    df[['날씨', '기온', '습도']] = df['기상상태'].str.extract('날씨 : (\\S+)기온 : (\\d+)℃습도 : (\\d+)%')\n",
    "    df = df.drop(['기상상태'], axis=1)\n",
    "\n",
    "    df = df.dropna()\n",
    "\n",
    "    le = LabelEncoder()\n",
    "    df['설계안전성검토'] = le.fit_transform(df['설계안전성검토'])\n",
    "\n",
    "    df = df.drop(['공종'], axis = 1)\n",
    "    # 시설물 종류 특성을 원-핫 인코딩\n",
    "\n",
    "    # ct = ColumnTransformer([\n",
    "    # ('onehot', OneHotEncoder(sparse=False), ['시설물 종류', '공공/민간 구분', '날씨', '공종'])], remainder='passthrough'\n",
    "    # )\n",
    "    ct = ColumnTransformer([\n",
    "    ('onehot', OneHotEncoder(sparse=False), ['시설물 종류', '공공/민간 구분', '날씨'])], remainder='passthrough'\n",
    "    )\n",
    "    ct.fit(df)\n",
    "    X = ct.transform(df)\n",
    "    # 컬럼 이름 리스트 생성\n",
    "\n",
    "    num_cols = df.columns.tolist()\n",
    "    ohe = ct.named_transformers_['onehot']\n",
    "    # ohe_cols = ohe.get_feature_names_out(['시설물 종류', '공공/민간 구분', '날씨', '공종']).tolist()\n",
    "    ohe_cols = ohe.get_feature_names_out(['시설물 종류', '공공/민간 구분', '날씨']).tolist()\n",
    "    new_cols = ohe_cols + num_cols\n",
    "    new_cols.remove('시설물 종류')\n",
    "    new_cols.remove('공공/민간 구분')\n",
    "    new_cols.remove('날씨')\n",
    "    # new_cols.remove('공종')\n",
    "    print(new_cols)\n",
    "\n",
    "    # DataFrame으로 변환\n",
    "\n",
    "    df = pd.DataFrame(X, columns=new_cols)\n",
    "\n",
    "    df = df.astype('float64')\n",
    "\n",
    "    df['습도'] = df['습도'].apply(lambda x: x/100)\n",
    "\n",
    "    # --------------------정제 완료 ----------------------------\n",
    "\n",
    "    # X = df.drop(['사망자수(명)', '부상자수(명)', '피해규모', '공종별 위험도 평가지수'], axis=1)\n",
    "    X = df.drop(['사망자수(명)', '부상자수(명)', '피해규모'], axis=1)\n",
    "    y = df[['공종별 위험도 평가지수']]\n",
    "    \n",
    "    X_train, X_test, y_train, y_test = train_test_split(X, y, test_size=0.2, random_state=42)\n",
    "\n",
    "    return X_train, X_test, y_train, y_test\n",
    "\n",
    "preprocess_data()"
   ]
  },
  {
   "cell_type": "code",
   "execution_count": 2,
   "metadata": {},
   "outputs": [
    {
     "name": "stdout",
     "output_type": "stream",
     "text": [
      "['시설물 종류_건축 ', '시설물 종류_산업환경설비 ', '시설물 종류_조경 ', '시설물 종류_토목 ', '공공/민간 구분_공공', '공공/민간 구분_민간', '날씨_강설', '날씨_강우', '날씨_강풍', '날씨_맑음', '날씨_안개', '날씨_흐림', '발생일시', '사망자수(명)', '부상자수(명)', '공사비', '공사기간', '공정률', '작업자수', '설계안전성검토', '공종별 안전사고 발생비율 위험도', '공종별 안전사고 발생강도 위험도', '공종별 위험도 평가지수', '피해규모', '기온', '습도']\n",
      "MSE: 1.1925918696757387e-27\n"
     ]
    },
    {
     "name": "stderr",
     "output_type": "stream",
     "text": [
      "c:\\Users\\추효정\\AppData\\Local\\Programs\\Python\\Python310\\lib\\site-packages\\sklearn\\preprocessing\\_encoders.py:868: FutureWarning: `sparse` was renamed to `sparse_output` in version 1.2 and will be removed in 1.4. `sparse_output` is ignored unless you leave `sparse` to its default value.\n",
      "  warnings.warn(\n"
     ]
    }
   ],
   "source": [
    "from sklearn.linear_model import LinearRegression\n",
    "from sklearn.metrics import mean_squared_error\n",
    "# 데이터 분리\n",
    "X_train, X_test, y_train, y_test = preprocess_data()\n",
    "\n",
    "# 모델 초기화\n",
    "lr_model = LinearRegression()\n",
    "\n",
    "# 모델 학습\n",
    "lr_model.fit(X_train, y_train)\n",
    "\n",
    "# 예측 수행\n",
    "y_pred = lr_model.predict(X_test)\n",
    "\n",
    "# 예측값과 실제값의 MSE 계산\n",
    "mse = mean_squared_error(y_test, y_pred)\n",
    "print(\"MSE:\", mse)"
   ]
  },
  {
   "cell_type": "code",
   "execution_count": 3,
   "metadata": {},
   "outputs": [
    {
     "name": "stderr",
     "output_type": "stream",
     "text": [
      "c:\\Users\\추효정\\AppData\\Local\\Programs\\Python\\Python310\\lib\\site-packages\\sklearn\\preprocessing\\_encoders.py:868: FutureWarning: `sparse` was renamed to `sparse_output` in version 1.2 and will be removed in 1.4. `sparse_output` is ignored unless you leave `sparse` to its default value.\n",
      "  warnings.warn(\n",
      "c:\\Users\\추효정\\AppData\\Local\\Programs\\Python\\Python310\\lib\\site-packages\\sklearn\\linear_model\\_ridge.py:216: LinAlgWarning: Ill-conditioned matrix (rcond=5.60979e-25): result may not be accurate.\n",
      "  return linalg.solve(A, Xy, assume_a=\"pos\", overwrite_a=True).T\n"
     ]
    },
    {
     "name": "stdout",
     "output_type": "stream",
     "text": [
      "['시설물 종류_건축 ', '시설물 종류_산업환경설비 ', '시설물 종류_조경 ', '시설물 종류_토목 ', '공공/민간 구분_공공', '공공/민간 구분_민간', '날씨_강설', '날씨_강우', '날씨_강풍', '날씨_맑음', '날씨_안개', '날씨_흐림', '발생일시', '사망자수(명)', '부상자수(명)', '공사비', '공사기간', '공정률', '작업자수', '설계안전성검토', '공종별 안전사고 발생비율 위험도', '공종별 안전사고 발생강도 위험도', '공종별 위험도 평가지수', '피해규모', '기온', '습도']\n",
      "Linear Regression 학습 완료.\n",
      "Ridge Regression 학습 완료.\n",
      "Lasso Regression 학습 완료.\n",
      "Enet Regression 학습 완료.\n",
      "Dicision Tree Regression 학습 완료.\n"
     ]
    },
    {
     "name": "stderr",
     "output_type": "stream",
     "text": [
      "C:\\Users\\추효정\\AppData\\Local\\Temp\\ipykernel_20048\\1395002390.py:41: DataConversionWarning: A column-vector y was passed when a 1d array was expected. Please change the shape of y to (n_samples,), for example using ravel().\n",
      "  rf.fit(X_train, y_train)\n"
     ]
    },
    {
     "name": "stdout",
     "output_type": "stream",
     "text": [
      "RandomForest Regression 학습 완료.\n",
      "Linear Regression\n",
      "Mean Squared Error: 1.1925918696757387e-27\n",
      "Ridge Regression\n",
      "Mean Squared Error: 1.8625928065278024e-08\n",
      "Lasso Regression\n",
      "Mean Squared Error: 0.02125333031142233\n",
      "ElasticNet Regression\n",
      "Mean Squared Error: 0.01910229801648957\n",
      "Decision Tree Regressor\n",
      "Mean Squared Error: 0.0\n",
      "Random Forest Regressor\n",
      "Mean Squared Error: 0.0\n"
     ]
    }
   ],
   "source": [
    "from sklearn.linear_model import LinearRegression, Ridge, Lasso, ElasticNet\n",
    "from sklearn.tree import DecisionTreeRegressor\n",
    "from sklearn.ensemble import RandomForestRegressor\n",
    "from sklearn.svm import SVR\n",
    "from sklearn.metrics import mean_squared_error, r2_score\n",
    "\n",
    "X_train, X_test, y_train, y_test = preprocess_data()\n",
    "\n",
    "# 선형 회귀 모델 학습 및 예측\n",
    "lr = LinearRegression()\n",
    "lr.fit(X_train, y_train)\n",
    "lr_pred = lr.predict(X_test)\n",
    "print(\"Linear Regression 학습 완료.\")\n",
    "\n",
    "# Ridge 회귀 모델 학습 및 예측\n",
    "ridge = Ridge(alpha=1.0)\n",
    "ridge.fit(X_train, y_train)\n",
    "ridge_pred = ridge.predict(X_test)\n",
    "print(\"Ridge Regression 학습 완료.\")\n",
    "\n",
    "# Lasso 회귀 모델 학습 및 예측\n",
    "lasso = Lasso(alpha=0.1)\n",
    "lasso.fit(X_train, y_train)\n",
    "lasso_pred = lasso.predict(X_test)\n",
    "print(\"Lasso Regression 학습 완료.\")\n",
    "\n",
    "# ElasticNet 회귀 모델 학습 및 예측\n",
    "enet = ElasticNet(alpha=0.1, l1_ratio=0.7)\n",
    "enet.fit(X_train, y_train)\n",
    "enet_pred = enet.predict(X_test)\n",
    "print(\"Enet Regression 학습 완료.\")\n",
    "\n",
    "# 결정 트리 회귀 모델 학습 및 예측\n",
    "dt = DecisionTreeRegressor(max_depth=5, random_state=42)\n",
    "dt.fit(X_train, y_train)\n",
    "dt_pred = dt.predict(X_test)\n",
    "print(\"Dicision Tree Regression 학습 완료.\")\n",
    "\n",
    "# 랜덤 포레스트 회귀 모델 학습 및 예측\n",
    "rf = RandomForestRegressor(n_estimators=100, max_depth=5, random_state=42)\n",
    "rf.fit(X_train, y_train)\n",
    "rf_pred = rf.predict(X_test)\n",
    "print(\"RandomForest Regression 학습 완료.\")\n",
    "\n",
    "# SVM 회귀 모델 학습 및 예측\n",
    "# svm = SVR(kernel='linear')\n",
    "# svm.fit(X_train, y_train)\n",
    "# svm_pred = svm.predict(X_test)\n",
    "# print(\"SVM Regression 학습 완료.\")\n",
    "\n",
    "# 각 모델의 성능 평가\n",
    "models = [lr, ridge, lasso, enet, dt, rf]\n",
    "model_names = ['Linear Regression', 'Ridge Regression', 'Lasso Regression', 'ElasticNet Regression',\n",
    "               'Decision Tree Regressor', 'Random Forest Regressor']\n",
    "model_preds = [lr_pred, ridge_pred, lasso_pred, enet_pred, dt_pred, rf_pred]\n",
    "\n",
    "for i, model in enumerate(models):\n",
    "    print(model_names[i])\n",
    "    print('Mean Squared Error:', mean_squared_error(y_test, model_preds[i]))\n"
   ]
  },
  {
   "cell_type": "code",
   "execution_count": 4,
   "metadata": {},
   "outputs": [
    {
     "data": {
      "image/png": "[encoded data removed]",
      "text/plain": [
       "<Figure size 1200x500 with 2 Axes>"
      ]
     },
     "metadata": {},
     "output_type": "display_data"
    }
   ],
   "source": [
    "# 모델 예측값과 y 레이블의 정답값 분포 시각화\n",
    "import matplotlib.pyplot as plt\n",
    "import numpy as np\n",
    "import pandas as pd\n",
    "\n",
    "# 예측값과 실제값의 분포 시각화\n",
    "fig, axs = plt.subplots(1, 2, figsize=(12, 5))\n",
    "fig.suptitle('Actual vs Predicted')\n",
    "\n",
    "# y_test 히스토그램\n",
    "axs[0].hist(y_test, bins=30, alpha=0.5, color='blue', label='Actual')\n",
    "axs[0].set_xlabel('Damage Scale')\n",
    "axs[0].set_ylabel('Frequency')\n",
    "\n",
    "# lr_pred, ridge_pred, lasso_pred, enet_pred, dt_pred, rf_pred\n",
    "# y_pred_lgb 히스토그램\n",
    "axs[1].hist(lr_pred, bins=30, alpha=0.5, color='red', label='Predicted')\n",
    "axs[1].set_xlabel('Damage Scale')\n",
    "axs[1].set_ylabel('Frequency')\n",
    "\n",
    "plt.show()\n",
    "\n"
   ]
  },
  {
   "cell_type": "code",
   "execution_count": 5,
   "metadata": {},
   "outputs": [
    {
     "data": {
      "image/png": "[encoded data removed]",
      "text/plain": [
       "<Figure size 640x480 with 1 Axes>"
      ]
     },
     "metadata": {},
     "output_type": "display_data"
    }
   ],
   "source": [
    "fig, ax = plt.subplots()\n",
    "ax.hist(y_test, bins=30, alpha=0.5, color='blue', label='Actual')\n",
    "ax.hist(lr_pred, bins=30, alpha=0.5, color='red', label='Predicted')\n",
    "ax.set_xlabel('Damage Scale')\n",
    "ax.set_ylabel('Frequency')\n",
    "ax.legend()\n",
    "plt.show()"
   ]
  },
  {
   "cell_type": "code",
   "execution_count": 6,
   "metadata": {},
   "outputs": [
    {
     "data": {
      "image/png": "[encoded data removed]",
      "text/plain": [
       "<Figure size 800x800 with 1 Axes>"
      ]
     },
     "metadata": {},
     "output_type": "display_data"
    }
   ],
   "source": [
    "import matplotlib.pyplot as plt\n",
    "\n",
    "predictions = lr_pred\n",
    "\n",
    "# 예측값과 실제값 비교\n",
    "plt.figure(figsize=(8, 8))\n",
    "plt.scatter(y_test, predictions, alpha=0.5)\n",
    "plt.plot([y_test.min(), y_test.max()], [predictions.min(), predictions.max()], 'k--', lw=4)\n",
    "plt.xlabel('True Value')\n",
    "plt.ylabel('Prediction')\n",
    "plt.show()\n"
   ]
  },
  {
   "cell_type": "code",
   "execution_count": 7,
   "metadata": {},
   "outputs": [
    {
     "ename": "KeyError",
     "evalue": "'피해규모'",
     "output_type": "error",
     "traceback": [
      "\u001b[1;31m---------------------------------------------------------------------------\u001b[0m",
      "\u001b[1;31mKeyError\u001b[0m                                  Traceback (most recent call last)",
      "File \u001b[1;32mc:\\Users\\추효정\\AppData\\Local\\Programs\\Python\\Python310\\lib\\site-packages\\pandas\\core\\indexes\\base.py:3652\u001b[0m, in \u001b[0;36mIndex.get_loc\u001b[1;34m(self, key)\u001b[0m\n\u001b[0;32m   3651\u001b[0m \u001b[39mtry\u001b[39;00m:\n\u001b[1;32m-> 3652\u001b[0m     \u001b[39mreturn\u001b[39;00m \u001b[39mself\u001b[39;49m\u001b[39m.\u001b[39;49m_engine\u001b[39m.\u001b[39;49mget_loc(casted_key)\n\u001b[0;32m   3653\u001b[0m \u001b[39mexcept\u001b[39;00m \u001b[39mKeyError\u001b[39;00m \u001b[39mas\u001b[39;00m err:\n",
      "File \u001b[1;32mc:\\Users\\추효정\\AppData\\Local\\Programs\\Python\\Python310\\lib\\site-packages\\pandas\\_libs\\index.pyx:147\u001b[0m, in \u001b[0;36mpandas._libs.index.IndexEngine.get_loc\u001b[1;34m()\u001b[0m\n",
      "File \u001b[1;32mc:\\Users\\추효정\\AppData\\Local\\Programs\\Python\\Python310\\lib\\site-packages\\pandas\\_libs\\index.pyx:176\u001b[0m, in \u001b[0;36mpandas._libs.index.IndexEngine.get_loc\u001b[1;34m()\u001b[0m\n",
      "File \u001b[1;32mpandas\\_libs\\hashtable_class_helper.pxi:7080\u001b[0m, in \u001b[0;36mpandas._libs.hashtable.PyObjectHashTable.get_item\u001b[1;34m()\u001b[0m\n",
      "File \u001b[1;32mpandas\\_libs\\hashtable_class_helper.pxi:7088\u001b[0m, in \u001b[0;36mpandas._libs.hashtable.PyObjectHashTable.get_item\u001b[1;34m()\u001b[0m\n",
      "\u001b[1;31mKeyError\u001b[0m: '피해규모'",
      "\nThe above exception was the direct cause of the following exception:\n",
      "\u001b[1;31mKeyError\u001b[0m                                  Traceback (most recent call last)",
      "Cell \u001b[1;32mIn[7], line 8\u001b[0m\n\u001b[0;32m      5\u001b[0m predictions \u001b[39m=\u001b[39m dt_pred\n\u001b[0;32m      7\u001b[0m \u001b[39m# y_test: 실제 값, prediction: 예측 값\u001b[39;00m\n\u001b[1;32m----> 8\u001b[0m accuracy \u001b[39m=\u001b[39m np\u001b[39m.\u001b[39msum(np\u001b[39m.\u001b[39mabs(y_test[\u001b[39m'\u001b[39;49m\u001b[39m피해규모\u001b[39;49m\u001b[39m'\u001b[39;49m]\u001b[39m.\u001b[39mvalues \u001b[39m-\u001b[39m predictions) \u001b[39m<\u001b[39m\u001b[39m=\u001b[39m \u001b[39m0.1\u001b[39m) \u001b[39m/\u001b[39m \u001b[39mlen\u001b[39m(y_test)\n\u001b[0;32m     10\u001b[0m \u001b[39mprint\u001b[39m(\u001b[39m\"\u001b[39m\u001b[39mAccuracy: \u001b[39m\u001b[39m{:.2f}\u001b[39;00m\u001b[39m%\u001b[39m\u001b[39m\"\u001b[39m\u001b[39m.\u001b[39mformat(accuracy \u001b[39m*\u001b[39m \u001b[39m100\u001b[39m))\n",
      "File \u001b[1;32mc:\\Users\\추효정\\AppData\\Local\\Programs\\Python\\Python310\\lib\\site-packages\\pandas\\core\\frame.py:3760\u001b[0m, in \u001b[0;36mDataFrame.__getitem__\u001b[1;34m(self, key)\u001b[0m\n\u001b[0;32m   3758\u001b[0m \u001b[39mif\u001b[39;00m \u001b[39mself\u001b[39m\u001b[39m.\u001b[39mcolumns\u001b[39m.\u001b[39mnlevels \u001b[39m>\u001b[39m \u001b[39m1\u001b[39m:\n\u001b[0;32m   3759\u001b[0m     \u001b[39mreturn\u001b[39;00m \u001b[39mself\u001b[39m\u001b[39m.\u001b[39m_getitem_multilevel(key)\n\u001b[1;32m-> 3760\u001b[0m indexer \u001b[39m=\u001b[39m \u001b[39mself\u001b[39;49m\u001b[39m.\u001b[39;49mcolumns\u001b[39m.\u001b[39;49mget_loc(key)\n\u001b[0;32m   3761\u001b[0m \u001b[39mif\u001b[39;00m is_integer(indexer):\n\u001b[0;32m   3762\u001b[0m     indexer \u001b[39m=\u001b[39m [indexer]\n",
      "File \u001b[1;32mc:\\Users\\추효정\\AppData\\Local\\Programs\\Python\\Python310\\lib\\site-packages\\pandas\\core\\indexes\\base.py:3654\u001b[0m, in \u001b[0;36mIndex.get_loc\u001b[1;34m(self, key)\u001b[0m\n\u001b[0;32m   3652\u001b[0m     \u001b[39mreturn\u001b[39;00m \u001b[39mself\u001b[39m\u001b[39m.\u001b[39m_engine\u001b[39m.\u001b[39mget_loc(casted_key)\n\u001b[0;32m   3653\u001b[0m \u001b[39mexcept\u001b[39;00m \u001b[39mKeyError\u001b[39;00m \u001b[39mas\u001b[39;00m err:\n\u001b[1;32m-> 3654\u001b[0m     \u001b[39mraise\u001b[39;00m \u001b[39mKeyError\u001b[39;00m(key) \u001b[39mfrom\u001b[39;00m \u001b[39merr\u001b[39;00m\n\u001b[0;32m   3655\u001b[0m \u001b[39mexcept\u001b[39;00m \u001b[39mTypeError\u001b[39;00m:\n\u001b[0;32m   3656\u001b[0m     \u001b[39m# If we have a listlike key, _check_indexing_error will raise\u001b[39;00m\n\u001b[0;32m   3657\u001b[0m     \u001b[39m#  InvalidIndexError. Otherwise we fall through and re-raise\u001b[39;00m\n\u001b[0;32m   3658\u001b[0m     \u001b[39m#  the TypeError.\u001b[39;00m\n\u001b[0;32m   3659\u001b[0m     \u001b[39mself\u001b[39m\u001b[39m.\u001b[39m_check_indexing_error(key)\n",
      "\u001b[1;31mKeyError\u001b[0m: '피해규모'"
     ]
    }
   ],
   "source": [
    "import numpy as np\n",
    "import pandas as pd\n",
    "import matplotlib.pyplot as plt\n",
    "\n",
    "predictions = dt_pred\n",
    "\n",
    "# y_test: 실제 값, prediction: 예측 값\n",
    "accuracy = np.sum(np.abs(y_test['피해규모'].values - predictions) <= 0.1) / len(y_test)\n",
    "\n",
    "print(\"Accuracy: {:.2f}%\".format(accuracy * 100))"
   ]
  }
 ],
 "metadata": {
  "kernelspec": {
   "display_name": "bert-study",
   "language": "python",
   "name": "python3"
  },
  "language_info": {
   "codemirror_mode": {
    "name": "ipython",
    "version": 3
   },
   "file_extension": ".py",
   "mimetype": "text/x-python",
   "name": "python",
   "nbconvert_exporter": "python",
   "pygments_lexer": "ipython3",
   "version": "3.10.7"
  },
  "orig_nbformat": 4
 },
 "nbformat": 4,
 "nbformat_minor": 2
}
